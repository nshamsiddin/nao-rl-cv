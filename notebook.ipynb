{
 "cells": [
  {
   "cell_type": "code",
   "execution_count": 1,
   "metadata": {},
   "outputs": [],
   "source": [
    "from naoqi import ALProxy\n",
    "ip = \"127.0.0.1\"\n",
    "port = 9559"
   ]
  },
  {
   "cell_type": "code",
   "execution_count": 4,
   "metadata": {},
   "outputs": [],
   "source": [
    "motion = ALProxy(\"ALMotion\", ip, port)\n",
    "tts = ALProxy(\"ALTextToSpeech\", ip, port)\n",
    "memory = ALProxy(\"ALMemory\", ip, port)"
   ]
  },
  {
   "cell_type": "code",
   "execution_count": 3,
   "metadata": {},
   "outputs": [],
   "source": [
    "def move(forward, side, rotate):\n",
    "    motion.post.moveTo(forward, side, rotate)"
   ]
  },
  {
   "cell_type": "code",
   "execution_count": 16,
   "metadata": {},
   "outputs": [],
   "source": [
    "move(0.0, 0.0, 3.0)"
   ]
  },
  {
   "cell_type": "code",
   "execution_count": 14,
   "metadata": {},
   "outputs": [],
   "source": [
    "action_set = ['move', 'stand_up', 'kick']"
   ]
  },
  {
   "cell_type": "code",
   "execution_count": 9,
   "metadata": {},
   "outputs": [],
   "source": [
    "# memory.getEventList()\n",
    "# memory.getTimestamp()"
   ]
  },
  {
   "cell_type": "code",
   "execution_count": 1,
   "metadata": {},
   "outputs": [
    {
     "output_type": "error",
     "ename": "NameError",
     "evalue": "name 'GeneratedClass' is not defined",
     "traceback": [
      "\u001b[1;31m\u001b[0m",
      "\u001b[1;31mNameError\u001b[0mTraceback (most recent call last)",
      "\u001b[1;32m<ipython-input-1-8d3af468ec61>\u001b[0m in \u001b[0;36m<module>\u001b[1;34m()\u001b[0m\n\u001b[1;32m----> 1\u001b[1;33m \u001b[1;32mclass\u001b[0m \u001b[0mMyClass\u001b[0m\u001b[1;33m(\u001b[0m\u001b[0mGeneratedClass\u001b[0m\u001b[1;33m)\u001b[0m\u001b[1;33m:\u001b[0m\u001b[1;33m\u001b[0m\u001b[0m\n\u001b[0m\u001b[0;32m      2\u001b[0m     \u001b[1;32mdef\u001b[0m \u001b[0m__init__\u001b[0m\u001b[1;33m(\u001b[0m\u001b[0mself\u001b[0m\u001b[1;33m)\u001b[0m\u001b[1;33m:\u001b[0m\u001b[1;33m\u001b[0m\u001b[0m\n\u001b[0;32m      3\u001b[0m         \u001b[0mGeneratedClass\u001b[0m\u001b[1;33m.\u001b[0m\u001b[0m__init__\u001b[0m\u001b[1;33m(\u001b[0m\u001b[0mself\u001b[0m\u001b[1;33m)\u001b[0m\u001b[1;33m\u001b[0m\u001b[0m\n\u001b[0;32m      4\u001b[0m \u001b[1;33m\u001b[0m\u001b[0m\n\u001b[0;32m      5\u001b[0m     \u001b[1;32mdef\u001b[0m \u001b[0monLoad\u001b[0m\u001b[1;33m(\u001b[0m\u001b[0mself\u001b[0m\u001b[1;33m)\u001b[0m\u001b[1;33m:\u001b[0m\u001b[1;33m\u001b[0m\u001b[0m\n",
      "\u001b[1;31mNameError\u001b[0m: name 'GeneratedClass' is not defined"
     ]
    }
   ],
   "source": [
    "class MyClass(GeneratedClass):\n",
    "    def __init__(self):\n",
    "        GeneratedClass.__init__(self)\n",
    "\n",
    "    def onLoad(self):\n",
    "        #put initialization code here\n",
    "        pass\n",
    "\n",
    "    def onUnload(self):\n",
    "        #put clean-up code here\n",
    "        pass\n",
    "\n",
    "    def onInput_onStart(self):\n",
    "        #self.onStopped() #activate the output of the box\n",
    "        tts = ALProxy(\"ALTextToSpeech\")\n",
    "        tts.say(\"Hello! I am NAO\")\n",
    "        pass\n",
    "\n",
    "    def onInput_onStop(self):\n",
    "        self.onUnload() #it is recommended to reuse the clean-up as the box is stopped\n",
    "        self.onStopped() #activate the output of the box"
   ]
  },
  {
   "cell_type": "code",
   "execution_count": 4,
   "metadata": {},
   "outputs": [
    {
     "output_type": "stream",
     "name": "stderr",
     "text": "usage: ipykernel_launcher.py [-h] [--ip IP] [--port PORT]\n                             [--ballsize BALLSIZE]\n                             [--effector {Arms,LArm,RArm,Head}]\nipykernel_launcher.py: error: unrecognized arguments: -f C:\\Users\\shams\\AppData\\Roaming\\jupyter\\runtime\\kernel-95cf93d0-d76a-40c6-96c3-26bc68cdce5d.json\n"
    },
    {
     "output_type": "error",
     "ename": "SystemExit",
     "evalue": "2",
     "traceback": [
      "An exception has occurred, use %tb to see the full traceback.\n",
      "\u001b[1;31mSystemExit\u001b[0m\u001b[1;31m:\u001b[0m 2\n"
     ]
    }
   ],
   "source": [
    "# -*- encoding: UTF-8 -*-\n",
    "\n",
    "\"\"\"\n",
    "This example shows how to use ALTracker with red ball and LArm.\n",
    "\"\"\"\n",
    "\n",
    "import time\n",
    "import argparse\n",
    "from PIL import Image\n",
    "from naoqi import ALProxy\n",
    "\n",
    "def main(IP, PORT, ballSize, effector):\n",
    "\n",
    "    print \"Connecting to\", IP, \"with port\", PORT\n",
    "\n",
    "    motion = ALProxy(\"ALMotion\", IP, PORT)\n",
    "    posture = ALProxy(\"ALRobotPosture\", IP, PORT)\n",
    "    tracker = ALProxy(\"ALTracker\", IP, PORT)\n",
    "    camProxy = ALProxy(\"ALVideoDevice\", IP, PORT)\n",
    "    resolution = 2    # VGA\n",
    "    colorSpace = 11   # RGB\n",
    "\n",
    "    videoClient = camProxy.subscribe(\"python_client\", resolution, colorSpace, 5)\n",
    "\n",
    "    # First, wake up.\n",
    "    motion.wakeUp()\n",
    "\n",
    "    fractionMaxSpeed = 0.8\n",
    "    # Go to posture stand\n",
    "    posture.goToPosture(\"StandInit\", fractionMaxSpeed)\n",
    "\n",
    "    # Add target to track.\n",
    "    targetName = \"RedBall\"\n",
    "    diameterOfBall = ballSize\n",
    "    tracker.registerTarget(targetName, diameterOfBall)\n",
    "\n",
    "    # set mode\n",
    "    mode = \"Head\"\n",
    "    tracker.setMode(mode)\n",
    "\n",
    "    # set effector\n",
    "    tracker.setEffector(effector)\n",
    "\n",
    "    # Then, start tracker.\n",
    "    tracker.track(targetName)\n",
    "\n",
    "    print \"ALTracker successfully started, now show a red ball to robot!\"\n",
    "    print \"Use Ctrl+c to stop this script.\"\n",
    "    \n",
    "    print \"Torso Frame Target Position: \"\n",
    "    print tracker.getTargetPosition(0)\n",
    "    print \"World Frame Target Position: \"\n",
    "    print tracker.getTargetPosition(1)\n",
    "    print \"Robot Frame Target Position: \"\n",
    "    print tracker.getTargetPosition(2)\n",
    "\n",
    "    tracker.lookAt(tracker.getTargetPosition(2), 2, 0.5, 0)\n",
    "\n",
    "    t0 = time.time()\n",
    "\n",
    "    # Get a camera image.\n",
    "    # image[6] contains the image data passed as an array of ASCII chars.\n",
    "    naoImage = camProxy.getImageRemote(videoClient)\n",
    "\n",
    "    t1 = time.time()\n",
    "\n",
    "    # Time the image transfer.\n",
    "    print \"acquisition delay \", t1 - t0\n",
    "\n",
    "    camProxy.unsubscribe(videoClient)\n",
    "\n",
    "\n",
    "    # Now we work with the image returned and save it as a PNG  using ImageDraw\n",
    "    # package.\n",
    "\n",
    "    # Get the image size and pixel array.\n",
    "    imageWidth = naoImage[0]\n",
    "    imageHeight = naoImage[1]\n",
    "    array = naoImage[6]\n",
    "\n",
    "    # Create a PIL Image from our pixel array.\n",
    "    im = Image.frombytes(\"RGB\", (imageWidth, imageHeight), array)\n",
    "\n",
    "    # Save the image.\n",
    "    im.save(\"trackerImage.png\", \"PNG\")\n",
    "    \n",
    "    \n",
    "    try:\n",
    "        while True:\n",
    "            time.sleep(1)\n",
    "    except KeyboardInterrupt:\n",
    "        print\n",
    "        print \"Interrupted by user\"\n",
    "        print \"Stopping...\"\n",
    "\n",
    "    # Stop tracker, go to posture Sit.\n",
    "    tracker.stopTracker()\n",
    "    tracker.unregisterAllTargets()\n",
    "    tracker.setEffector(\"None\")\n",
    "    posture.goToPosture(\"Sit\", fractionMaxSpeed)\n",
    "    motion.rest()\n",
    "\n",
    "    print \"ALTracker stopped.\"\n",
    "\n",
    "\n",
    "if __name__ == \"__main__\" :\n",
    "\n",
    "    parser = argparse.ArgumentParser()\n",
    "    parser.add_argument(\"--ip\", type=str, default=\"127.0.0.1\",\n",
    "                        help=\"Robot ip address.\")\n",
    "    parser.add_argument(\"--port\", type=int, default=9559,\n",
    "                        help=\"Robot port number.\")\n",
    "    parser.add_argument(\"--ballsize\", type=float, default=0.06,\n",
    "                        help=\"Diameter of ball.\")\n",
    "    parser.add_argument(\"--effector\", type=str, default=\"LArm\",\n",
    "                        choices=[\"Arms\", \"LArm\", \"RArm\", \"Head\"],\n",
    "                        help=\"Effector for tracking.\")\n",
    "\n",
    "    args = parser.parse_args()\n",
    "\n",
    "    main(args.ip, args.port, args.ballsize, args.effector)"
   ]
  },
  {
   "cell_type": "code",
   "execution_count": null,
   "metadata": {},
   "outputs": [],
   "source": []
  }
 ],
 "metadata": {
  "language_info": {
   "codemirror_mode": {
    "name": "ipython",
    "version": 3
   },
   "file_extension": ".py",
   "mimetype": "text/x-python",
   "name": "python",
   "nbconvert_exporter": "python",
   "pygments_lexer": "ipython3",
   "version": "2.7.16-final"
  },
  "orig_nbformat": 2,
  "kernelspec": {
   "name": "python271632bitbaseconda989392713e9f456b91be806d1ce49a07",
   "display_name": "Python 2.7.16 32-bit ('base': conda)"
  }
 },
 "nbformat": 4,
 "nbformat_minor": 2
}